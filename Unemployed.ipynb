{
 "cells": [
  {
   "cell_type": "code",
   "execution_count": 1,
   "metadata": {},
   "outputs": [],
   "source": [
    "import pandas as pd\n",
    "import numpy as np\n",
    "\n",
    "# dtype_dic= {'Code': str}\n",
    "\n",
    "df = pd.read_csv(\"C:/Users/jwolf/Documents/MEGA/03_Doutoramento/06_Base de dados/School closure/CSV/\\\n",
    "Unemployed.csv\", dtype= {'Code': str}, encoding=\"ANSI\", sep=';', header = 0)\n",
    "\n",
    "#cria uma lista de dataframes, que incluem código, nome e valores de df\n",
    "\n",
    "l=[]\n",
    "x=0\n",
    "for i in df:\n",
    "    l.append(df.iloc[:,[0,1,x]])\n",
    "    x+=1\n",
    "l\n",
    "\n",
    "#junta 1 coluna a todos os dataframes, que repete o nome de outra coluna em todas as linhas\n",
    "x=0\n",
    "for i in l: \n",
    "    l[x]=l[x].assign(Year=l[x].columns[2])\n",
    "    x+=1\n",
    "\n",
    "del l[0:2]\n",
    "\n",
    "\n",
    "#altera nome de colunas para ficarem todas idênticas quando se apende \n",
    "x=0\n",
    "for i in l: \n",
    "    l[x].rename(columns={l[x].columns[2]: 'Unemployed'}, inplace = True)\n",
    "    x+=1\n",
    "\n",
    "# cria df1 que junta todas as dfs da lista l \n",
    "\n",
    "df1=pd.DataFrame()\n",
    "x=0 \n",
    "for i in l: \n",
    "    df1 = df1.append(l[x])\n",
    "    x+=1\n",
    "\n",
    "df1.to_csv(\"C:/Users/jwolf/Documents/MEGA/03_Doutoramento/06_Base de dados/School closure/CSV_new/\\\n",
    "Unemployed.csv\", sep=';', encoding='ANSI', index=False, header=True)"
   ]
  }
 ],
 "metadata": {
  "kernelspec": {
   "display_name": "Python 3",
   "language": "python",
   "name": "python3"
  },
  "language_info": {
   "codemirror_mode": {
    "name": "ipython",
    "version": 3
   },
   "file_extension": ".py",
   "mimetype": "text/x-python",
   "name": "python",
   "nbconvert_exporter": "python",
   "pygments_lexer": "ipython3",
   "version": "3.6.6"
  }
 },
 "nbformat": 4,
 "nbformat_minor": 2
}
